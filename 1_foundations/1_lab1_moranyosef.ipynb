{
 "cells": [
  {
   "cell_type": "markdown",
   "metadata": {},
   "source": [
    "# Welcome to the start of your adventure in Agentic AI"
   ]
  },
  {
   "cell_type": "markdown",
   "metadata": {},
   "source": [
    "<table style=\"margin: 0; text-align: left; width:100%\">\n",
    "    <tr>\n",
    "        <td style=\"width: 150px; height: 150px; vertical-align: middle;\">\n",
    "            <img src=\"../assets/stop.png\" width=\"150\" height=\"150\" style=\"display: block;\" />\n",
    "        </td>\n",
    "        <td>\n",
    "            <h2 style=\"color:#ff7800;\">Are you ready for action??</h2>\n",
    "            <span style=\"color:#ff7800;\">Have you completed all the setup steps in the <a href=\"../setup/\">setup</a> folder?<br/>\n",
    "            Have you read the <a href=\"../README.md\">README</a>? Many common questions are answered here!<br/>\n",
    "            Have you checked out the guides in the <a href=\"../guides/01_intro.ipynb\">guides</a> folder?<br/>\n",
    "            Well in that case, you're ready!!\n",
    "            </span>\n",
    "        </td>\n",
    "    </tr>\n",
    "</table>"
   ]
  },
  {
   "cell_type": "markdown",
   "metadata": {},
   "source": [
    "<table style=\"margin: 0; text-align: left; width:100%\">\n",
    "    <tr>\n",
    "        <td style=\"width: 150px; height: 150px; vertical-align: middle;\">\n",
    "            <img src=\"../assets/tools.png\" width=\"150\" height=\"150\" style=\"display: block;\" />\n",
    "        </td>\n",
    "        <td>\n",
    "            <h2 style=\"color:#00bfff;\">This code is a live resource - keep an eye out for my updates</h2>\n",
    "            <span style=\"color:#00bfff;\">I push updates regularly. As people ask questions or have problems, I add more examples and improve explanations. As a result, the code below might not be identical to the videos, as I've added more steps and better comments. Consider this like an interactive book that accompanies the lectures.<br/><br/>\n",
    "            I try to send emails regularly with important updates related to the course. You can find this in the 'Announcements' section of Udemy in the left sidebar. You can also choose to receive my emails via your Notification Settings in Udemy. I'm respectful of your inbox and always try to add value with my emails!\n",
    "            </span>\n",
    "        </td>\n",
    "    </tr>\n",
    "</table>"
   ]
  },
  {
   "cell_type": "markdown",
   "metadata": {},
   "source": [
    "### And please do remember to contact me if I can help\n",
    "\n",
    "And I love to connect: https://www.linkedin.com/in/eddonner/\n",
    "\n",
    "\n",
    "### New to Notebooks like this one? Head over to the guides folder!\n",
    "\n",
    "Just to check you've already added the Python and Jupyter extensions to Cursor, if not already installed:\n",
    "- Open extensions (View >> extensions)\n",
    "- Search for python, and when the results show, click on the ms-python one, and Install it if not already installed\n",
    "- Search for jupyter, and when the results show, click on the Microsoft one, and Install it if not already installed  \n",
    "Then View >> Explorer to bring back the File Explorer.\n",
    "\n",
    "And then:\n",
    "1. Click where it says \"Select Kernel\" near the top right, and select the option called `.venv (Python 3.12.9)` or similar, which should be the first choice or the most prominent choice. You may need to choose \"Python Environments\" first.\n",
    "2. Click in each \"cell\" below, starting with the cell immediately below this text, and press Shift+Enter to run\n",
    "3. Enjoy!\n",
    "\n",
    "After you click \"Select Kernel\", if there is no option like `.venv (Python 3.12.9)` then please do the following:  \n",
    "1. On Mac: From the Cursor menu, choose Settings >> VS Code Settings (NOTE: be sure to select `VSCode Settings` not `Cursor Settings`);  \n",
    "On Windows PC: From the File menu, choose Preferences >> VS Code Settings(NOTE: be sure to select `VSCode Settings` not `Cursor Settings`)  \n",
    "2. In the Settings search bar, type \"venv\"  \n",
    "3. In the field \"Path to folder with a list of Virtual Environments\" put the path to the project root, like C:\\Users\\username\\projects\\agents (on a Windows PC) or /Users/username/projects/agents (on Mac or Linux).  \n",
    "And then try again.\n",
    "\n",
    "Having problems with missing Python versions in that list? Have you ever used Anaconda before? It might be interferring. Quit Cursor, bring up a new command line, and make sure that your Anaconda environment is deactivated:    \n",
    "`conda deactivate`  \n",
    "And if you still have any problems with conda and python versions, it's possible that you will need to run this too:  \n",
    "`conda config --set auto_activate_base false`  \n",
    "and then from within the Agents directory, you should be able to run `uv python list` and see the Python 3.12 version."
   ]
  },
  {
   "cell_type": "code",
   "execution_count": 1,
   "metadata": {},
   "outputs": [],
   "source": [
    "# First let's do an import. If you get an Import Error, double check that your Kernel is correct..\n",
    "\n",
    "from dotenv import load_dotenv\n"
   ]
  },
  {
   "cell_type": "code",
   "execution_count": 3,
   "metadata": {},
   "outputs": [
    {
     "data": {
      "text/plain": [
       "True"
      ]
     },
     "execution_count": 3,
     "metadata": {},
     "output_type": "execute_result"
    }
   ],
   "source": [
    "# Next it's time to load the API keys into environment variables\n",
    "# If this returns false, see the next cell!\n",
    "\n",
    "load_dotenv(override=True)"
   ]
  },
  {
   "cell_type": "markdown",
   "metadata": {},
   "source": [
    "### Wait, did that just output `False`??\n",
    "\n",
    "If so, the most common reason is that you didn't save your `.env` file after adding the key! Be sure to have saved.\n",
    "\n",
    "Also, make sure the `.env` file is named precisely `.env` and is in the project root directory (`agents`)\n",
    "\n",
    "By the way, your `.env` file should have a stop symbol next to it in Cursor on the left, and that's actually a good thing: that's Cursor saying to you, \"hey, I realize this is a file filled with secret information, and I'm not going to send it to an external AI to suggest changes, because your keys should not be shown to anyone else.\""
   ]
  },
  {
   "cell_type": "markdown",
   "metadata": {},
   "source": [
    "<table style=\"margin: 0; text-align: left; width:100%\">\n",
    "    <tr>\n",
    "        <td style=\"width: 150px; height: 150px; vertical-align: middle;\">\n",
    "            <img src=\"../assets/stop.png\" width=\"150\" height=\"150\" style=\"display: block;\" />\n",
    "        </td>\n",
    "        <td>\n",
    "            <h2 style=\"color:#ff7800;\">Final reminders</h2>\n",
    "            <span style=\"color:#ff7800;\">1. If you're not confident about Environment Variables or Web Endpoints / APIs, please read Topics 3 and 5 in this <a href=\"../guides/04_technical_foundations.ipynb\">technical foundations guide</a>.<br/>\n",
    "            2. If you want to use AIs other than OpenAI, like Gemini, DeepSeek or Ollama (free), please see the first section in this <a href=\"../guides/09_ai_apis_and_ollama.ipynb\">AI APIs guide</a>.<br/>\n",
    "            3. If you ever get a Name Error in Python, you can always fix it immediately; see the last section of this <a href=\"../guides/06_python_foundations.ipynb\">Python Foundations guide</a> and follow both tutorials and exercises.<br/>\n",
    "            </span>\n",
    "        </td>\n",
    "    </tr>\n",
    "</table>"
   ]
  },
  {
   "cell_type": "code",
   "execution_count": 4,
   "metadata": {},
   "outputs": [
    {
     "name": "stdout",
     "output_type": "stream",
     "text": [
      "OpenAI API Key exists and begins sk-proj-\n"
     ]
    }
   ],
   "source": [
    "# Check the key - if you're not using OpenAI, check whichever key you're using! Ollama doesn't need a key.\n",
    "\n",
    "import os\n",
    "openai_api_key = os.getenv('OPENAI_API_KEY')\n",
    "\n",
    "if openai_api_key:\n",
    "    print(f\"OpenAI API Key exists and begins {openai_api_key[:8]}\")\n",
    "else:\n",
    "    print(\"OpenAI API Key not set - please head to the troubleshooting guide in the setup folder\")\n",
    "    \n"
   ]
  },
  {
   "cell_type": "code",
   "execution_count": 5,
   "metadata": {},
   "outputs": [],
   "source": [
    "# And now - the all important import statement\n",
    "# If you get an import error - head over to troubleshooting in the Setup folder\n",
    "\n",
    "from openai import OpenAI"
   ]
  },
  {
   "cell_type": "code",
   "execution_count": 6,
   "metadata": {},
   "outputs": [],
   "source": [
    "# And now we'll create an instance of the OpenAI class\n",
    "# If you're not sure what it means to create an instance of a class - head over to the guides folder (guide 6)!\n",
    "# If you get a NameError - head over to the guides folder (guide 6)to learn about NameErrors - always instantly fixable\n",
    "# If you're not using OpenAI, you just need to slightly modify this - precise instructions are in the AI APIs guide (guide 9)\n",
    "\n",
    "openai = OpenAI()"
   ]
  },
  {
   "cell_type": "code",
   "execution_count": 7,
   "metadata": {},
   "outputs": [],
   "source": [
    "# Create a list of messages in the familiar OpenAI format\n",
    "\n",
    "messages = [{\"role\": \"user\", \"content\": \"What is 2+2?\"}]"
   ]
  },
  {
   "cell_type": "code",
   "execution_count": 9,
   "metadata": {},
   "outputs": [
    {
     "name": "stdout",
     "output_type": "stream",
     "text": [
      "2 + 2 equals 4.\n"
     ]
    }
   ],
   "source": [
    "# And now call it! Any problems, head to the troubleshooting guide\n",
    "# This uses GPT 4.1 nano, the incredibly cheap model\n",
    "# The APIs guide (guide 9) has exact instructions for using even cheaper or free alternatives to OpenAI\n",
    "# If you get a NameError, head to the guides folder (guide 6) to learn about NameErrors - always instantly fixable\n",
    "\n",
    "response = openai.chat.completions.create(\n",
    "    model=\"gpt-4.1-nano\",\n",
    "    messages=messages\n",
    ")\n",
    "\n",
    "print(response.choices[0].message.content)\n"
   ]
  },
  {
   "cell_type": "code",
   "execution_count": 10,
   "metadata": {},
   "outputs": [],
   "source": [
    "# And now - let's ask for a question:\n",
    "\n",
    "question = \"Please propose a hard, challenging question to assess someone's IQ. Respond only with the question.\"\n",
    "messages = [{\"role\": \"user\", \"content\": question}]\n"
   ]
  },
  {
   "cell_type": "code",
   "execution_count": 11,
   "metadata": {},
   "outputs": [
    {
     "name": "stdout",
     "output_type": "stream",
     "text": [
      "If you rearrange the letters \"CIFAIPC\" you get the name of a(n):  \n",
      "A) Ocean  \n",
      "B) City  \n",
      "C) Animal  \n",
      "D) Country  \n",
      "E) River\n"
     ]
    }
   ],
   "source": [
    "# ask it - this uses GPT 4.1 mini, still cheap but more powerful than nano\n",
    "\n",
    "response = openai.chat.completions.create(\n",
    "    model=\"gpt-4.1-mini\",\n",
    "    messages=messages\n",
    ")\n",
    "\n",
    "question = response.choices[0].message.content\n",
    "\n",
    "print(question)\n"
   ]
  },
  {
   "cell_type": "code",
   "execution_count": 12,
   "metadata": {},
   "outputs": [],
   "source": [
    "# form a new messages list\n",
    "messages = [{\"role\": \"user\", \"content\": question}]\n"
   ]
  },
  {
   "cell_type": "code",
   "execution_count": 13,
   "metadata": {},
   "outputs": [
    {
     "name": "stdout",
     "output_type": "stream",
     "text": [
      "Let's analyze the letters: **C I F A I P C**\n",
      "\n",
      "We need to see if rearranging these letters forms:\n",
      "\n",
      "A) Ocean  \n",
      "B) City  \n",
      "C) Animal  \n",
      "D) Country  \n",
      "E) River\n",
      "\n",
      "Looking closely, the letters can be rearranged to spell **PACIFIC**:\n",
      "\n",
      "**P A C I F I C**\n",
      "\n",
      "The Pacific is an ocean.\n",
      "\n",
      "**Answer: A) Ocean**\n"
     ]
    }
   ],
   "source": [
    "# Ask it again\n",
    "\n",
    "response = openai.chat.completions.create(\n",
    "    model=\"gpt-4.1-mini\",\n",
    "    messages=messages\n",
    ")\n",
    "\n",
    "answer = response.choices[0].message.content\n",
    "print(answer)\n"
   ]
  },
  {
   "cell_type": "code",
   "execution_count": 14,
   "metadata": {},
   "outputs": [
    {
     "data": {
      "text/markdown": [
       "Let's analyze the letters: **C I F A I P C**\n",
       "\n",
       "We need to see if rearranging these letters forms:\n",
       "\n",
       "A) Ocean  \n",
       "B) City  \n",
       "C) Animal  \n",
       "D) Country  \n",
       "E) River\n",
       "\n",
       "Looking closely, the letters can be rearranged to spell **PACIFIC**:\n",
       "\n",
       "**P A C I F I C**\n",
       "\n",
       "The Pacific is an ocean.\n",
       "\n",
       "**Answer: A) Ocean**"
      ],
      "text/plain": [
       "<IPython.core.display.Markdown object>"
      ]
     },
     "metadata": {},
     "output_type": "display_data"
    }
   ],
   "source": [
    "from IPython.display import Markdown, display\n",
    "\n",
    "display(Markdown(answer))\n",
    "\n"
   ]
  },
  {
   "cell_type": "markdown",
   "metadata": {},
   "source": [
    "# Congratulations!\n",
    "\n",
    "That was a small, simple step in the direction of Agentic AI, with your new environment!\n",
    "\n",
    "Next time things get more interesting..."
   ]
  },
  {
   "cell_type": "markdown",
   "metadata": {},
   "source": [
    "<table style=\"margin: 0; text-align: left; width:100%\">\n",
    "    <tr>\n",
    "        <td style=\"width: 150px; height: 150px; vertical-align: middle;\">\n",
    "            <img src=\"../assets/exercise.png\" width=\"150\" height=\"150\" style=\"display: block;\" />\n",
    "        </td>\n",
    "        <td>\n",
    "            <h2 style=\"color:#ff7800;\">Exercise</h2>\n",
    "            <span style=\"color:#ff7800;\">Now try this commercial application:<br/>\n",
    "            First ask the LLM to pick a business area that might be worth exploring for an Agentic AI opportunity.<br/>\n",
    "            Then ask the LLM to present a pain-point in that industry - something challenging that might be ripe for an Agentic solution.<br/>\n",
    "            Finally have 3 third LLM call propose the Agentic AI solution. <br/>\n",
    "            We will cover this at up-coming labs, so don't worry if you're unsure.. just give it a try!\n",
    "            </span>\n",
    "        </td>\n",
    "    </tr>\n",
    "</table>"
   ]
  },
  {
   "cell_type": "code",
   "execution_count": 15,
   "metadata": {},
   "outputs": [
    {
     "data": {
      "text/plain": [
       "[{'role': 'user',\n",
       "  'content': 'Pick a bussiness area that might be worth exploring for agentic AI opportunities'},\n",
       " {'role': 'assistant',\n",
       "  'content': \"One promising business area for exploring agentic AI opportunities is **Healthcare**, particularly in the field of **personalized medicine and patient management**. Here's why this area is worth exploring:\\n\\n### Opportunities in Healthcare:\\n\\n1. **Personalized Treatment Plans:**\\n   - Agentic AI can analyze extensive medical data, including genetic information, lifestyle factors, and historical treatment outcomes, to create personalized treatment plans for patients. This would enhance the effectiveness of treatments and improve patient outcomes.\\n\\n2. **Patient Monitoring and Management:**\\n   - AI agents can be deployed in remote patient monitoring systems, where they can continuously analyze data collected from wearable devices and telehealth visits. These agents could provide timely alerts to healthcare providers about potential health issues, enabling proactive interventions.\\n\\n3. **AI-driven Decision Support Systems:**\\n   - AI can assist healthcare professionals in diagnosing diseases and recommending treatments by analyzing symptoms, medical histories, and research literature. Such systems can improve diagnostic accuracy and provide evidence-based treatment options.\\n\\n4. **Administrative Efficiency:**\\n   - AI agents can automate administrative tasks such as appointment scheduling, patient intake, and billing, freeing up healthcare professionals to focus more on patient care and reducing operational costs for healthcare facilities.\\n\\n5. **Drug Discovery and Development:**\\n   - In pharmaceutical research, agentic AI can streamline the drug discovery process by predicting how different compounds will interact within the human body, thereby speeding up the development of new medications.\\n\\n6. **Mental Health Support:**\\n   - AI-driven chatbots and virtual therapists can provide mental health support and guidance, offering immediate help to individuals seeking assistance, especially in areas where access to mental health services is limited.\\n\\n### Implementation Considerations:\\n\\nFor successful implementation of agentic AI in healthcare, it is crucial to consider:\\n\\n- **Regulatory Compliance:** Ensure systems comply with HIPAA and other relevant regulations regarding patient data privacy and safety.\\n- **Ethical Considerations:** Address biases in AI algorithms and ensure transparency in how decisions are made.\\n- **Integration with Existing Systems:** Facilitate smooth integration with existing healthcare infrastructure to enhance overall service efficiency.\\n\\nOverall, the healthcare sector presents a multitude of avenues for agentic AI applications that could improve patient care, enhance operational efficiencies, and drive advancements in medical science.\"},\n",
       " {'role': 'user', 'content': 'preset a pain point for that business idea'},\n",
       " {'role': 'assistant',\n",
       "  'content': \"### Pain Point: Fragmented Patient Data\\n\\n**Description:**\\nIn the healthcare sector, patient data is often fragmented and stored across multiple systems—such as electronic health records (EHRs), laboratory systems, imaging software, pharmacy records, and wearable devices. This fragmentation leads to several significant challenges:\\n\\n1. **Inconsistent Information:** Different healthcare providers may have access to different sets of a patient's information, leading to inaccuracies in diagnosis and treatment plans. For example, a specialist might not have access to a patient's complete medical history, causing potential gaps in care.\\n\\n2. **Inefficient Communication:** Collaboration between healthcare providers is hampered when data is not centralized. This often results in excessive reliance on patients to relay information, which can be incomplete or inaccurate.\\n\\n3. **Time-consuming Processes:** Healthcare professionals spend a considerable amount of time retrieving and verifying patient data from various systems, which detracts from the time available for direct patient care.\\n\\n4. **Patient Frustration:** Patients may experience frustration when they have to repeat their medical history multiple times or provide information that their healthcare provider should already have, leading to decreased satisfaction with their care.\\n\\n5. **Delayed Diagnosis:** The inability to quickly access comprehensive patient information can result in delayed diagnoses and treatments, which can negatively impact patient outcomes and increase healthcare costs.\\n\\n### How Agentic AI Can Address This Pain Point:\\n\\n1. **Data Integration and Interoperability:** Deploy AI systems that can aggregate and synthesize data from various sources into a cohesive patient profile. This would ensure healthcare professionals have a complete and accurate view of patient history at their fingertips.\\n\\n2. **Intelligent Data Querying:** Develop AI tools that can intelligently query patient data across disparate systems, delivering relevant information to healthcare providers in real-time, thereby reducing their administrative burden.\\n\\n3. **Automated Insights and Alerts:** Use AI to analyze integrated data, generating automated insights that can alert healthcare professionals to critical health changes or flag inconsistencies in treatment or medication usage.\\n\\n4. **Patient Engagement Tools:** Create AI-driven applications that empower patients to maintain their health records in a centralized location, making it easier for them to share information with different providers and reducing the burden of data transmission.\\n\\n5. **Enhanced Communication Platforms:** Implement AI systems that enhance communication between various stakeholders in healthcare—providers, patients, and support teams—facilitating a more seamless flow of information.\\n\\nBy addressing the fragmented patient data pain point with agentic AI solutions, healthcare providers can improve patient outcomes, increase efficiency, and enhance the overall patient experience.\"},\n",
       " {'role': 'user',\n",
       "  'content': 'propose agentic ai solution for that pain point'},\n",
       " {'role': 'assistant',\n",
       "  'content': '### Proposed Agentic AI Solution: Integrated Patient Data Management System (IPDMS)\\n\\n**Overview:**\\nThe Integrated Patient Data Management System (IPDMS) is an agentic AI solution designed to overcome the challenges of fragmented patient data in the healthcare sector. By centralizing patient information from multiple sources, employing advanced data integration techniques, and utilizing AI-driven insights, IPDMS aims to enhance patient care, increase operational efficiency, and provide a seamless experience for healthcare providers and patients alike.\\n\\n### Key Features of IPDMS:\\n\\n1. **Data Aggregation and Interoperability:**\\n   - **Centralized Patient Profiles:** The system collects and consolidates patient data from EHRs, lab systems, imaging software, wearable devices, and other relevant sources into a single, easily accessible profile.\\n   - **Interoperability Standards:** Employ integration protocols such as FHIR (Fast Healthcare Interoperability Resources) to ensure compatibility with various healthcare systems, facilitating data exchange and communication between different providers.\\n\\n2. **Intelligent Data Querying and Analytics:**\\n   - **Natural Language Processing (NLP):** Utilize NLP algorithms to allow healthcare providers to query the system in natural language, receiving comprehensive answers about a patient’s history, medications, and lab results without navigating through multiple interfaces.\\n   - **Predictive Analytics:** Implement predictive analytics to identify potential health risks based on historical data patterns and suggest proactive measures for patient management.\\n\\n3. **Automated Insights and Clinical Decision Support:**\\n   - **Real-time Alerts:** Configure the system to generate alerts for clinicians based on predefined criteria, such as abnormal lab results or medication interactions, enabling timely interventions.\\n   - **Clinical Decision Support Tool:** Offer AI-generated recommendations for treatment or tests based on integrated patient information and current clinical guidelines, improving diagnostic accuracy.\\n\\n4. **Patient Engagement Portal:**\\n   - **Personal Health Records (PHRs):** Provide patients with access to their central profile, allowing them to update information, manage appointments, and view test results.\\n   - **Secure Communication Channels:** Enable secure messaging platforms where patients can communicate with their providers, facilitating clear information flow and enhancing engagement.\\n\\n5. **Data Security and Compliance:**\\n   - **Robust Security Measures:** Implement advanced encryption, authentication, and access control to ensure patient data is stored securely and compliant with regulations such as HIPAA.\\n   - **Audit Trails:** Maintain detailed logs of data access and changes, ensuring transparency and accountability in data management.\\n\\n### Implementation Plan:\\n\\n1. **Stakeholder Engagement:**\\n   - Collaborate with healthcare providers, IT departments, and regulatory bodies to understand their specific needs and address compliance requirements.\\n\\n2. **Phase-wise Development:**\\n   - Roll out IPDMS in phases, starting with pilot programs in select healthcare facilities to test functionalities and gather feedback for improvements.\\n\\n3. **Training and Support:**\\n   - Provide comprehensive training for healthcare professionals to ensure smooth adoption and utilization of the IPDMS, coupled with ongoing technical support.\\n\\n4. **Evaluation and Iteration:**\\n   - Continuously monitor system performance, user satisfaction, and patient outcomes, making iterative improvements based on feedback and emerging technological advancements.\\n\\n### Conclusion:\\n\\nBy implementing the Integrated Patient Data Management System (IPDMS), healthcare organizations can significantly reduce the issues associated with fragmented patient data. The solution will facilitate better communication among healthcare providers, enhance patient engagement, and enable more precise, timely decisions in patient care, ultimately leading to improved health outcomes and operational efficiencies.'}]"
      ]
     },
     "metadata": {},
     "output_type": "display_data"
    },
    {
     "data": {
      "text/markdown": [
       "### Proposed Agentic AI Solution: Integrated Patient Data Management System (IPDMS)\n",
       "\n",
       "**Overview:**\n",
       "The Integrated Patient Data Management System (IPDMS) is an agentic AI solution designed to overcome the challenges of fragmented patient data in the healthcare sector. By centralizing patient information from multiple sources, employing advanced data integration techniques, and utilizing AI-driven insights, IPDMS aims to enhance patient care, increase operational efficiency, and provide a seamless experience for healthcare providers and patients alike.\n",
       "\n",
       "### Key Features of IPDMS:\n",
       "\n",
       "1. **Data Aggregation and Interoperability:**\n",
       "   - **Centralized Patient Profiles:** The system collects and consolidates patient data from EHRs, lab systems, imaging software, wearable devices, and other relevant sources into a single, easily accessible profile.\n",
       "   - **Interoperability Standards:** Employ integration protocols such as FHIR (Fast Healthcare Interoperability Resources) to ensure compatibility with various healthcare systems, facilitating data exchange and communication between different providers.\n",
       "\n",
       "2. **Intelligent Data Querying and Analytics:**\n",
       "   - **Natural Language Processing (NLP):** Utilize NLP algorithms to allow healthcare providers to query the system in natural language, receiving comprehensive answers about a patient’s history, medications, and lab results without navigating through multiple interfaces.\n",
       "   - **Predictive Analytics:** Implement predictive analytics to identify potential health risks based on historical data patterns and suggest proactive measures for patient management.\n",
       "\n",
       "3. **Automated Insights and Clinical Decision Support:**\n",
       "   - **Real-time Alerts:** Configure the system to generate alerts for clinicians based on predefined criteria, such as abnormal lab results or medication interactions, enabling timely interventions.\n",
       "   - **Clinical Decision Support Tool:** Offer AI-generated recommendations for treatment or tests based on integrated patient information and current clinical guidelines, improving diagnostic accuracy.\n",
       "\n",
       "4. **Patient Engagement Portal:**\n",
       "   - **Personal Health Records (PHRs):** Provide patients with access to their central profile, allowing them to update information, manage appointments, and view test results.\n",
       "   - **Secure Communication Channels:** Enable secure messaging platforms where patients can communicate with their providers, facilitating clear information flow and enhancing engagement.\n",
       "\n",
       "5. **Data Security and Compliance:**\n",
       "   - **Robust Security Measures:** Implement advanced encryption, authentication, and access control to ensure patient data is stored securely and compliant with regulations such as HIPAA.\n",
       "   - **Audit Trails:** Maintain detailed logs of data access and changes, ensuring transparency and accountability in data management.\n",
       "\n",
       "### Implementation Plan:\n",
       "\n",
       "1. **Stakeholder Engagement:**\n",
       "   - Collaborate with healthcare providers, IT departments, and regulatory bodies to understand their specific needs and address compliance requirements.\n",
       "\n",
       "2. **Phase-wise Development:**\n",
       "   - Roll out IPDMS in phases, starting with pilot programs in select healthcare facilities to test functionalities and gather feedback for improvements.\n",
       "\n",
       "3. **Training and Support:**\n",
       "   - Provide comprehensive training for healthcare professionals to ensure smooth adoption and utilization of the IPDMS, coupled with ongoing technical support.\n",
       "\n",
       "4. **Evaluation and Iteration:**\n",
       "   - Continuously monitor system performance, user satisfaction, and patient outcomes, making iterative improvements based on feedback and emerging technological advancements.\n",
       "\n",
       "### Conclusion:\n",
       "\n",
       "By implementing the Integrated Patient Data Management System (IPDMS), healthcare organizations can significantly reduce the issues associated with fragmented patient data. The solution will facilitate better communication among healthcare providers, enhance patient engagement, and enable more precise, timely decisions in patient care, ultimately leading to improved health outcomes and operational efficiencies."
      ],
      "text/plain": [
       "<IPython.core.display.Markdown object>"
      ]
     },
     "metadata": {},
     "output_type": "display_data"
    }
   ],
   "source": [
    "# First create the messages:\n",
    "\n",
    "messages = [{\"role\": \"user\", \"content\": \"Pick a bussiness area that might be worth exploring for agentic AI opportunities\"}]\n",
    "\n",
    "# Then make the first call:\n",
    "\n",
    "response = openai.chat.completions.create(\n",
    "    model=\"gpt-4o-mini\",\n",
    "    messages=messages\n",
    ")\n",
    "\n",
    "# Then read the business idea:\n",
    "\n",
    "business_idea = response.choices[0].message.content\n",
    "\n",
    "# And repeat! In the next message, include the business idea within the message\n",
    "\n",
    "messages.append({\"role\": \"assistant\", \"content\": business_idea})\n",
    "messages.append({\"role\": \"user\", \"content\": \"preset a pain point for that business idea\"})\n",
    "\n",
    "response = openai.chat.completions.create(\n",
    "    model=\"gpt-4o-mini\",\n",
    "    messages=messages\n",
    ")\n",
    "\n",
    "pain_point = response.choices[0].message.content\n",
    "messages.append({\"role\": \"assistant\", \"content\": pain_point})\n",
    "messages.append({\"role\": \"user\", \"content\": \"propose agentic ai solution for that pain point\"})\n",
    "\n",
    "response = openai.chat.completions.create(\n",
    "    model=\"gpt-4o-mini\",\n",
    "    messages=messages\n",
    ")\n",
    "solution = response.choices[0].message.content\n",
    "messages.append({\"role\": \"assistant\", \"content\": solution})\n",
    "\n",
    "display(messages)\n",
    "display(Markdown(solution))\n",
    "\n",
    "\n",
    "\n",
    "\n",
    "# And repeat! In the next message, include the business idea within the message"
   ]
  },
  {
   "cell_type": "markdown",
   "metadata": {},
   "source": []
  }
 ],
 "metadata": {
  "kernelspec": {
   "display_name": ".venv",
   "language": "python",
   "name": "python3"
  },
  "language_info": {
   "codemirror_mode": {
    "name": "ipython",
    "version": 3
   },
   "file_extension": ".py",
   "mimetype": "text/x-python",
   "name": "python",
   "nbconvert_exporter": "python",
   "pygments_lexer": "ipython3",
   "version": "3.12.11"
  }
 },
 "nbformat": 4,
 "nbformat_minor": 2
}
